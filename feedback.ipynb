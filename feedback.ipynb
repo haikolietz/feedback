{
 "cells": [
  {
   "cell_type": "markdown",
   "metadata": {},
   "source": [
    "# Identity model"
   ]
  },
  {
   "cell_type": "code",
   "execution_count": null,
   "metadata": {},
   "outputs": [],
   "source": [
    "import graph_tool.all as gt\n",
    "import numpy as np\n",
    "\n",
    "gt.openmp_set_num_threads(1)"
   ]
  },
  {
   "cell_type": "code",
   "execution_count": null,
   "metadata": {},
   "outputs": [],
   "source": [
    "def identity_model(group_size, l, b, alpha, z):\n",
    "    '''\n",
    "    Generates random identity networks as described by Watts, Dodds, & Newman \n",
    "    (https://doi.org/10.1126/science.1070120)\n",
    "    \n",
    "    group_size: int\n",
    "        Size of groups at base level\n",
    "    l: int\n",
    "        Depth of hierarchy\n",
    "    b: int\n",
    "        Branching ratio\n",
    "    alpha: double\n",
    "        Assortativity parameter; when alpha >> 0, all inks will be as short as \n",
    "        possible; when alpha = -ln(b), the graph will be random\n",
    "    z: double\n",
    "        Average degree of final graph\n",
    "\n",
    "    Outputs:\n",
    "\n",
    "    group_membership: list\n",
    "        Vector which node is in which group\n",
    "\n",
    "    propensities: matrix\n",
    "        Average number of edges between groups r and s\n",
    "    '''\n",
    "    propensities = np.zeros(shape=(b**(l-1), b**(l-1)))\n",
    "    for i in range(l):\n",
    "        for j in range(b**i):\n",
    "            propensities[j*b**(l-(i+1)):(j+1)*b**(l-(i+1)), j*b**(l-(i+1)):(j+1)*b**(l-(i+1))] = (l-i)\n",
    "    propensities = np.exp(-alpha*propensities)\n",
    "    #propensities = 0.5/np.max(propensities)*propensities # 0.5 is the desired value in the diagonal\n",
    "    group_membership = [item for row in [[group]*group_size for group in range(len(propensities))] for item in row]\n",
    "    propensities = z*propensities/sum(sum(propensities/len(group_membership)))\n",
    "    return group_membership, propensities\n",
    "\n",
    "def detectable(group_membership, b):\n",
    "    '''\n",
    "    Returns the group membership list for the number of groups below the resolution limit\n",
    "    '''\n",
    "    n = len(group_membership)\n",
    "    B = len(set(group_membership))\n",
    "    B_max = len(group_membership)**0.5\n",
    "    while B > B_max:\n",
    "        B = B / b\n",
    "    return [item for row in [[b]*int(n/B) for b in range(int(B))] for item in row]"
   ]
  },
  {
   "cell_type": "code",
   "execution_count": null,
   "metadata": {},
   "outputs": [],
   "source": [
    "b = 2\n",
    "\n",
    "group_membership, propensities = identity_model(\n",
    "    group_size = 6, \n",
    "    l = 4, \n",
    "    b = b, \n",
    "    alpha = 2, \n",
    "    z = 4\n",
    ")\n",
    "\n",
    "print(f'Resolution limit: {int(len(group_membership)**0.5)} building blocks')\n",
    "print('Using number of detectable building blocks\\n')\n",
    "\n",
    "print('Ground truth:')\n",
    "g = gt.generate_sbm(group_membership, propensities)\n",
    "detectable_group_membership_b = g.new_vp('int')\n",
    "detectable_group_membership_b.a = detectable(group_membership, b)\n",
    "pos = gt.sfdp_layout(g)\n",
    "gt.graph_draw(g, pos=pos, vertex_fill_color=detectable_group_membership_b, output_size=(300, 300))\n",
    "\n",
    "print('Inferred partition:')\n",
    "state = gt.minimize_blockmodel_dl(g)\n",
    "gt.graph_draw(g, pos=pos, vertex_fill_color=state.b, output_size=(300, 300))\n",
    "\n",
    "print(f'Normalized mutual information: {round(gt.mutual_information(detectable(group_membership, b), state.b.a, norm=True), 2)}')\n",
    "print(f'R: {round(gt.partition_overlap_center([detectable_group_membership_b.a, state.b.a], relabel_bs=False)[1], 2)}')"
   ]
  },
  {
   "cell_type": "code",
   "execution_count": null,
   "metadata": {},
   "outputs": [],
   "source": []
  }
 ],
 "metadata": {
  "kernelspec": {
   "display_name": "compsoc",
   "language": "python",
   "name": "compsoc"
  },
  "language_info": {
   "codemirror_mode": {
    "name": "ipython",
    "version": 3
   },
   "file_extension": ".py",
   "mimetype": "text/x-python",
   "name": "python",
   "nbconvert_exporter": "python",
   "pygments_lexer": "ipython3",
   "version": "3.11.5"
  }
 },
 "nbformat": 4,
 "nbformat_minor": 4
}
